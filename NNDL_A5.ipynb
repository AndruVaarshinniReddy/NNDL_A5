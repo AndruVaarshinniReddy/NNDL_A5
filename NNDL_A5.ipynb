{
  "nbformat": 4,
  "nbformat_minor": 0,
  "metadata": {
    "colab": {
      "provenance": []
    },
    "kernelspec": {
      "name": "python3",
      "display_name": "Python 3"
    },
    "language_info": {
      "name": "python"
    }
  },
  "cells": [
    {
      "cell_type": "code",
      "execution_count": 1,
      "metadata": {
        "id": "2Ef6FTdJdMLO"
      },
      "outputs": [],
      "source": [
        "import pandas as pd #Basic packages for creating dataframes and loading dataset\n",
        "import numpy as np\n",
        "\n",
        "import matplotlib.pyplot as plt #Package for visualization\n",
        "\n",
        "import re #importing package for Regular expression operations\n",
        "\n",
        "from sklearn.model_selection import train_test_split #Package for splitting the data\n",
        "\n",
        "from sklearn.preprocessing import LabelEncoder #Package for conversion of categorical to Numerical\n",
        "\n",
        "from keras.preprocessing.text import Tokenizer #Tokenization\n",
        "from tensorflow.keras.preprocessing.sequence import pad_sequences #Add zeros or crop based on the length\n",
        "from keras.models import Sequential #Sequential Neural Network\n",
        "from keras.layers import Dense, Embedding, LSTM, SpatialDropout1D #For layers in Neural Network\n",
        "from keras.utils.np_utils import to_categorical"
      ]
    },
    {
      "cell_type": "code",
      "source": [
        "from google.colab import drive\n",
        "drive.mount('/content/gdrive')"
      ],
      "metadata": {
        "colab": {
          "base_uri": "https://localhost:8080/"
        },
        "id": "NiN7RxlPdUTR",
        "outputId": "e9716d31-6250-42cd-b7b7-fe462cff307c"
      },
      "execution_count": 2,
      "outputs": [
        {
          "output_type": "stream",
          "name": "stdout",
          "text": [
            "Mounted at /content/gdrive\n"
          ]
        }
      ]
    },
    {
      "cell_type": "code",
      "source": [
        "import pandas as pd\n",
        "\n",
        "# Load the dataset as a Pandas DataFrame\n",
        "dataset = pd.read_csv('/content/gdrive/My Drive/Sentiment.csv')\n",
        "\n",
        "# Select only the necessary columns 'text' and 'sentiment'\n",
        "mask = dataset.columns.isin(['text', 'sentiment'])\n",
        "data = dataset.loc[:, mask]\n",
        "\n",
        "# Keeping only the necessary columns\n",
        "data['text'] = data['text'].apply(lambda x: x.lower())\n",
        "data['text'] = data['text'].apply((lambda x: re.sub('[^a-zA-z0-9\\s]', '', x)))"
      ],
      "metadata": {
        "colab": {
          "base_uri": "https://localhost:8080/"
        },
        "id": "3JbFhAJDdVRo",
        "outputId": "e053fbb5-dd35-4e63-a329-1f1c6f62b2d6"
      },
      "execution_count": 5,
      "outputs": [
        {
          "output_type": "stream",
          "name": "stderr",
          "text": [
            "<ipython-input-5-d0e745dc69e5>:11: SettingWithCopyWarning: \n",
            "A value is trying to be set on a copy of a slice from a DataFrame.\n",
            "Try using .loc[row_indexer,col_indexer] = value instead\n",
            "\n",
            "See the caveats in the documentation: https://pandas.pydata.org/pandas-docs/stable/user_guide/indexing.html#returning-a-view-versus-a-copy\n",
            "  data['text'] = data['text'].apply(lambda x: x.lower())\n",
            "<ipython-input-5-d0e745dc69e5>:12: SettingWithCopyWarning: \n",
            "A value is trying to be set on a copy of a slice from a DataFrame.\n",
            "Try using .loc[row_indexer,col_indexer] = value instead\n",
            "\n",
            "See the caveats in the documentation: https://pandas.pydata.org/pandas-docs/stable/user_guide/indexing.html#returning-a-view-versus-a-copy\n",
            "  data['text'] = data['text'].apply((lambda x: re.sub('[^a-zA-z0-9\\s]', '', x)))\n"
          ]
        }
      ]
    },
    {
      "cell_type": "code",
      "source": [
        "for idx, row in data.iterrows():\n",
        "    row[0] = row[0].replace('rt', ' ') #Removing Retweets\n",
        "    max_fatures = 2000\n",
        "tokenizer = Tokenizer(num_words=max_fatures, split=' ') #Maximum words is 2000 to tokenize sentence\n",
        "tokenizer.fit_on_texts(data['text'].values)\n",
        "X = tokenizer.texts_to_sequences(data['text'].values) #taking values to feature matrix\n",
        "X = pad_sequences(X) #Padding the feature matrix\n",
        "\n",
        "embed_dim = 128 #Dimension of the Embedded layer\n",
        "lstm_out = 196 #Long short-term memory (LSTM) layer neurons\n",
        "def createmodel():\n",
        "    model = Sequential() #Sequential Neural Network\n",
        "    model.add(Embedding(max_fatures, embed_dim,input_length = X.shape[1])) #input dimension 2000 Neurons, output dimension 128 Neurons\n",
        "    model.add(LSTM(lstm_out, dropout=0.2, recurrent_dropout=0.2)) #Drop out 20%, 196 output Neurons, recurrent dropout 20%\n",
        "    model.add(Dense(3,activation='softmax')) #3 output neurons[positive, Neutral, Negative], softmax as activation\n",
        "    model.compile(loss = 'categorical_crossentropy', optimizer='adam',metrics = ['accuracy']) #Compiling the model\n",
        "    return model\n",
        "# print(model.summary())\n",
        "labelencoder = LabelEncoder() #Applying label Encoding on the label matrix\n",
        "integer_encoded = labelencoder.fit_transform(data['sentiment']) #fitting the model\n",
        "y = to_categorical(integer_encoded)\n",
        "X_train, X_test, Y_train, Y_test = train_test_split(X,y, test_size = 0.33, random_state = 42) #67% training data, 33% test data split\n",
        "batch_size = 32 #Batch size 32\n",
        "model = createmodel() #Function call to Sequential Neural Network\n",
        "model.fit(X_train, Y_train, epochs = 1, batch_size=batch_size, verbose = 2) #verbose the higher, the more messages\n",
        "score,acc = model.evaluate(X_test,Y_test,verbose=2,batch_size=batch_size) #evaluating the model\n",
        "print(score)\n",
        "print(acc)"
      ],
      "metadata": {
        "colab": {
          "base_uri": "https://localhost:8080/"
        },
        "id": "aZZniZQHdZA0",
        "outputId": "76d71f23-bb13-4a9f-e102-ad85589cb88e"
      },
      "execution_count": 6,
      "outputs": [
        {
          "output_type": "stream",
          "name": "stdout",
          "text": [
            "291/291 - 35s - loss: 0.8267 - accuracy: 0.6426 - 35s/epoch - 119ms/step\n",
            "144/144 - 2s - loss: 0.7524 - accuracy: 0.6798 - 2s/epoch - 14ms/step\n",
            "0.7523683905601501\n",
            "0.6797728538513184\n"
          ]
        }
      ]
    },
    {
      "cell_type": "code",
      "source": [
        "\n",
        "print(model.metrics_names) #metrics of the model"
      ],
      "metadata": {
        "colab": {
          "base_uri": "https://localhost:8080/"
        },
        "id": "auFybgATdarG",
        "outputId": "e1ba447f-46d2-425f-9b1a-cdddeaf8f4b9"
      },
      "execution_count": 7,
      "outputs": [
        {
          "output_type": "stream",
          "name": "stdout",
          "text": [
            "['loss', 'accuracy']\n"
          ]
        }
      ]
    },
    {
      "cell_type": "code",
      "source": [
        "#1. Save the model and use the saved model to predict on new text data (ex, “A lot of good things are happening. We are respected again throughout the world, and that's a great thing.@realDonaldTrump”)\n",
        "model.save('sentimentAnalysis.h5') #Saving the model"
      ],
      "metadata": {
        "id": "Hiwmx2LsdcSQ"
      },
      "execution_count": 9,
      "outputs": []
    },
    {
      "cell_type": "code",
      "source": [
        "from keras.models import load_model #Importing the package for importing the saved model\n",
        "model= load_model('sentimentAnalysis.h5') #loading the saved model"
      ],
      "metadata": {
        "id": "nAytpFHCdhjJ"
      },
      "execution_count": 10,
      "outputs": []
    },
    {
      "cell_type": "code",
      "source": [
        "print(integer_encoded)\n",
        "print(data['sentiment'])"
      ],
      "metadata": {
        "colab": {
          "base_uri": "https://localhost:8080/"
        },
        "id": "5DtTmPQ4dkiQ",
        "outputId": "3e564140-0bec-47e3-ec3c-9fac830b786f"
      },
      "execution_count": 11,
      "outputs": [
        {
          "output_type": "stream",
          "name": "stdout",
          "text": [
            "[1 2 1 ... 2 0 2]\n",
            "0         Neutral\n",
            "1        Positive\n",
            "2         Neutral\n",
            "3        Positive\n",
            "4        Positive\n",
            "           ...   \n",
            "13866    Negative\n",
            "13867    Positive\n",
            "13868    Positive\n",
            "13869    Negative\n",
            "13870    Positive\n",
            "Name: sentiment, Length: 13871, dtype: object\n"
          ]
        }
      ]
    },
    {
      "cell_type": "code",
      "source": [
        "# Predicting on the text data\n",
        "sentence = ['A lot of good things are happening. We are respected again throughout the world, and that is a great thing.@realDonaldTrump']\n",
        "sentence = tokenizer.texts_to_sequences(sentence) # Tokenizing the sentence\n",
        "sentence = pad_sequences(sentence, maxlen=28, dtype='int32', value=0) # Padding the sentence\n",
        "sentiment_probs = model.predict(sentence, batch_size=1, verbose=2)[0] # Predicting the sentence text\n",
        "sentiment = np.argmax(sentiment_probs)\n",
        "\n",
        "print(sentiment_probs)\n",
        "if sentiment == 0:\n",
        "    print(\"Neutral\")\n",
        "elif sentiment < 0:\n",
        "    print(\"Negative\")\n",
        "elif sentiment > 0:\n",
        "    print(\"Positive\")\n",
        "else:\n",
        "    print(\"Cannot be determined\")"
      ],
      "metadata": {
        "colab": {
          "base_uri": "https://localhost:8080/"
        },
        "id": "qaqTK6LBdnm5",
        "outputId": "34de03ff-069a-426c-e76c-1bc72ae2fa53"
      },
      "execution_count": 12,
      "outputs": [
        {
          "output_type": "stream",
          "name": "stdout",
          "text": [
            "1/1 - 0s - 212ms/epoch - 212ms/step\n",
            "[0.5888069  0.15338774 0.25780532]\n",
            "Neutral\n"
          ]
        }
      ]
    },
    {
      "cell_type": "code",
      "source": [
        "#2. Apply GridSearchCV on the source code provided in the class\n"
      ],
      "metadata": {
        "id": "Vv6PcUMndreu"
      },
      "execution_count": 13,
      "outputs": []
    },
    {
      "cell_type": "code",
      "source": [
        "from keras.wrappers.scikit_learn import KerasClassifier #importing Keras classifier\n",
        "from sklearn.model_selection import GridSearchCV #importing Grid search CV\n",
        "\n",
        "model = KerasClassifier(build_fn=createmodel,verbose=2) #initiating model to test performance by applying multiple hyper parameters\n",
        "batch_size= [10, 20, 40] #hyper parameter batch_size\n",
        "epochs = [1, 2] #hyper parameter no. of epochs\n",
        "param_grid= {'batch_size':batch_size, 'epochs':epochs} #creating dictionary for batch size, no. of epochs\n",
        "grid  = GridSearchCV(estimator=model, param_grid=param_grid) #Applying dictionary with hyper parameters\n",
        "grid_result= grid.fit(X_train,Y_train) #Fitting the model\n",
        "# summarize results\n",
        "print(\"Best: %f using %s\" % (grid_result.best_score_, grid_result.best_params_)) #best score, best hyper parameters"
      ],
      "metadata": {
        "colab": {
          "base_uri": "https://localhost:8080/"
        },
        "id": "FsnZdlWqdxkv",
        "outputId": "03a3af91-a36a-439f-d857-4c6e0bdb9e12"
      },
      "execution_count": 14,
      "outputs": [
        {
          "output_type": "stream",
          "name": "stderr",
          "text": [
            "<ipython-input-14-6c99b49150f4>:4: DeprecationWarning: KerasClassifier is deprecated, use Sci-Keras (https://github.com/adriangb/scikeras) instead. See https://www.adriangb.com/scikeras/stable/migration.html for help migrating.\n",
            "  model = KerasClassifier(build_fn=createmodel,verbose=2) #initiating model to test performance by applying multiple hyper parameters\n"
          ]
        },
        {
          "output_type": "stream",
          "name": "stdout",
          "text": [
            "744/744 - 63s - loss: 0.8285 - accuracy: 0.6468 - 63s/epoch - 84ms/step\n",
            "186/186 - 2s - loss: 0.7448 - accuracy: 0.6783 - 2s/epoch - 9ms/step\n",
            "744/744 - 62s - loss: 0.8245 - accuracy: 0.6466 - 62s/epoch - 83ms/step\n",
            "186/186 - 2s - loss: 0.7560 - accuracy: 0.6697 - 2s/epoch - 9ms/step\n",
            "744/744 - 62s - loss: 0.8261 - accuracy: 0.6466 - 62s/epoch - 84ms/step\n",
            "186/186 - 2s - loss: 0.7880 - accuracy: 0.6719 - 2s/epoch - 9ms/step\n",
            "744/744 - 63s - loss: 0.8247 - accuracy: 0.6492 - 63s/epoch - 85ms/step\n",
            "186/186 - 2s - loss: 0.7755 - accuracy: 0.6781 - 2s/epoch - 9ms/step\n",
            "744/744 - 62s - loss: 0.8209 - accuracy: 0.6488 - 62s/epoch - 83ms/step\n",
            "186/186 - 2s - loss: 0.7730 - accuracy: 0.6706 - 2s/epoch - 9ms/step\n",
            "Epoch 1/2\n",
            "744/744 - 64s - loss: 0.8297 - accuracy: 0.6447 - 64s/epoch - 86ms/step\n",
            "Epoch 2/2\n",
            "744/744 - 61s - loss: 0.6823 - accuracy: 0.7133 - 61s/epoch - 82ms/step\n",
            "186/186 - 2s - loss: 0.7287 - accuracy: 0.6869 - 2s/epoch - 10ms/step\n",
            "Epoch 1/2\n",
            "744/744 - 63s - loss: 0.8202 - accuracy: 0.6485 - 63s/epoch - 85ms/step\n",
            "Epoch 2/2\n",
            "744/744 - 61s - loss: 0.6765 - accuracy: 0.7131 - 61s/epoch - 82ms/step\n",
            "186/186 - 2s - loss: 0.7618 - accuracy: 0.6885 - 2s/epoch - 10ms/step\n",
            "Epoch 1/2\n",
            "744/744 - 64s - loss: 0.8258 - accuracy: 0.6473 - 64s/epoch - 85ms/step\n",
            "Epoch 2/2\n",
            "744/744 - 61s - loss: 0.6779 - accuracy: 0.7124 - 61s/epoch - 82ms/step\n",
            "186/186 - 2s - loss: 0.7545 - accuracy: 0.6848 - 2s/epoch - 10ms/step\n",
            "Epoch 1/2\n",
            "744/744 - 65s - loss: 0.8262 - accuracy: 0.6453 - 65s/epoch - 88ms/step\n",
            "Epoch 2/2\n",
            "744/744 - 62s - loss: 0.6737 - accuracy: 0.7122 - 62s/epoch - 83ms/step\n",
            "186/186 - 2s - loss: 0.7605 - accuracy: 0.6819 - 2s/epoch - 10ms/step\n",
            "Epoch 1/2\n",
            "744/744 - 63s - loss: 0.8199 - accuracy: 0.6487 - 63s/epoch - 84ms/step\n",
            "Epoch 2/2\n",
            "744/744 - 61s - loss: 0.6679 - accuracy: 0.7171 - 61s/epoch - 82ms/step\n",
            "186/186 - 2s - loss: 0.7839 - accuracy: 0.6744 - 2s/epoch - 9ms/step\n",
            "372/372 - 36s - loss: 0.8350 - accuracy: 0.6418 - 36s/epoch - 96ms/step\n",
            "93/93 - 2s - loss: 0.7431 - accuracy: 0.6627 - 2s/epoch - 17ms/step\n",
            "372/372 - 35s - loss: 0.8320 - accuracy: 0.6427 - 35s/epoch - 95ms/step\n",
            "93/93 - 1s - loss: 0.7796 - accuracy: 0.6756 - 1s/epoch - 14ms/step\n",
            "372/372 - 36s - loss: 0.8334 - accuracy: 0.6429 - 36s/epoch - 97ms/step\n",
            "93/93 - 1s - loss: 0.7651 - accuracy: 0.6794 - 1s/epoch - 13ms/step\n",
            "372/372 - 36s - loss: 0.8401 - accuracy: 0.6390 - 36s/epoch - 97ms/step\n",
            "93/93 - 1s - loss: 0.7557 - accuracy: 0.6765 - 1s/epoch - 14ms/step\n",
            "372/372 - 37s - loss: 0.8273 - accuracy: 0.6410 - 37s/epoch - 98ms/step\n",
            "93/93 - 1s - loss: 0.7715 - accuracy: 0.6803 - 1s/epoch - 14ms/step\n",
            "Epoch 1/2\n",
            "372/372 - 36s - loss: 0.8252 - accuracy: 0.6442 - 36s/epoch - 97ms/step\n",
            "Epoch 2/2\n",
            "372/372 - 34s - loss: 0.6805 - accuracy: 0.7108 - 34s/epoch - 92ms/step\n",
            "93/93 - 1s - loss: 0.7226 - accuracy: 0.6950 - 1s/epoch - 14ms/step\n",
            "Epoch 1/2\n",
            "372/372 - 36s - loss: 0.8297 - accuracy: 0.6408 - 36s/epoch - 98ms/step\n",
            "Epoch 2/2\n",
            "372/372 - 33s - loss: 0.6859 - accuracy: 0.7069 - 33s/epoch - 88ms/step\n",
            "93/93 - 1s - loss: 0.7421 - accuracy: 0.6783 - 1s/epoch - 15ms/step\n",
            "Epoch 1/2\n",
            "372/372 - 36s - loss: 0.8297 - accuracy: 0.6410 - 36s/epoch - 98ms/step\n",
            "Epoch 2/2\n",
            "372/372 - 33s - loss: 0.6782 - accuracy: 0.7094 - 33s/epoch - 88ms/step\n",
            "93/93 - 1s - loss: 0.7487 - accuracy: 0.6832 - 1s/epoch - 14ms/step\n",
            "Epoch 1/2\n",
            "372/372 - 36s - loss: 0.8310 - accuracy: 0.6429 - 36s/epoch - 96ms/step\n",
            "Epoch 2/2\n",
            "372/372 - 34s - loss: 0.6834 - accuracy: 0.7092 - 34s/epoch - 92ms/step\n",
            "93/93 - 1s - loss: 0.7470 - accuracy: 0.6798 - 1s/epoch - 14ms/step\n",
            "Epoch 1/2\n",
            "372/372 - 36s - loss: 0.8292 - accuracy: 0.6445 - 36s/epoch - 97ms/step\n",
            "Epoch 2/2\n",
            "372/372 - 33s - loss: 0.6670 - accuracy: 0.7110 - 33s/epoch - 89ms/step\n",
            "93/93 - 1s - loss: 0.8099 - accuracy: 0.6238 - 1s/epoch - 14ms/step\n",
            "186/186 - 23s - loss: 0.8474 - accuracy: 0.6341 - 23s/epoch - 126ms/step\n",
            "47/47 - 2s - loss: 0.7525 - accuracy: 0.6600 - 2s/epoch - 35ms/step\n",
            "186/186 - 22s - loss: 0.8398 - accuracy: 0.6376 - 22s/epoch - 119ms/step\n",
            "47/47 - 1s - loss: 0.7749 - accuracy: 0.6611 - 968ms/epoch - 21ms/step\n",
            "186/186 - 23s - loss: 0.8510 - accuracy: 0.6328 - 23s/epoch - 122ms/step\n",
            "47/47 - 1s - loss: 0.7641 - accuracy: 0.6751 - 919ms/epoch - 20ms/step\n",
            "186/186 - 23s - loss: 0.8462 - accuracy: 0.6366 - 23s/epoch - 125ms/step\n",
            "47/47 - 1s - loss: 0.7680 - accuracy: 0.6749 - 921ms/epoch - 20ms/step\n",
            "186/186 - 24s - loss: 0.8481 - accuracy: 0.6334 - 24s/epoch - 128ms/step\n",
            "47/47 - 1s - loss: 0.7847 - accuracy: 0.6625 - 937ms/epoch - 20ms/step\n",
            "Epoch 1/2\n",
            "186/186 - 23s - loss: 0.8447 - accuracy: 0.6357 - 23s/epoch - 126ms/step\n",
            "Epoch 2/2\n",
            "186/186 - 20s - loss: 0.6876 - accuracy: 0.7111 - 20s/epoch - 109ms/step\n",
            "47/47 - 1s - loss: 0.7269 - accuracy: 0.6864 - 934ms/epoch - 20ms/step\n",
            "Epoch 1/2\n",
            "186/186 - 23s - loss: 0.8411 - accuracy: 0.6352 - 23s/epoch - 123ms/step\n",
            "Epoch 2/2\n",
            "186/186 - 21s - loss: 0.6911 - accuracy: 0.7014 - 21s/epoch - 114ms/step\n",
            "47/47 - 1s - loss: 0.7380 - accuracy: 0.6756 - 929ms/epoch - 20ms/step\n",
            "Epoch 1/2\n",
            "186/186 - 23s - loss: 0.8440 - accuracy: 0.6330 - 23s/epoch - 124ms/step\n",
            "Epoch 2/2\n",
            "186/186 - 21s - loss: 0.6821 - accuracy: 0.7096 - 21s/epoch - 114ms/step\n",
            "47/47 - 1s - loss: 0.8045 - accuracy: 0.6590 - 925ms/epoch - 20ms/step\n",
            "Epoch 1/2\n",
            "186/186 - 23s - loss: 0.8482 - accuracy: 0.6328 - 23s/epoch - 126ms/step\n",
            "Epoch 2/2\n",
            "186/186 - 20s - loss: 0.6973 - accuracy: 0.7013 - 20s/epoch - 108ms/step\n",
            "47/47 - 1s - loss: 0.7469 - accuracy: 0.6814 - 919ms/epoch - 20ms/step\n",
            "Epoch 1/2\n",
            "186/186 - 24s - loss: 0.8462 - accuracy: 0.6336 - 24s/epoch - 126ms/step\n",
            "Epoch 2/2\n",
            "186/186 - 20s - loss: 0.6788 - accuracy: 0.7116 - 20s/epoch - 108ms/step\n",
            "47/47 - 1s - loss: 0.7888 - accuracy: 0.6615 - 1s/epoch - 22ms/step\n",
            "Epoch 1/2\n",
            "930/930 - 80s - loss: 0.8162 - accuracy: 0.6480 - 80s/epoch - 86ms/step\n",
            "Epoch 2/2\n",
            "930/930 - 77s - loss: 0.6762 - accuracy: 0.7137 - 77s/epoch - 83ms/step\n",
            "Best: 0.683309 using {'batch_size': 10, 'epochs': 2}\n"
          ]
        }
      ]
    }
  ]
}